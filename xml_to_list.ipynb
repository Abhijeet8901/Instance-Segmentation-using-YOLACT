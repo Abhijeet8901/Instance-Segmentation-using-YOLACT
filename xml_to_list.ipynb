{
 "cells": [
  {
   "cell_type": "code",
   "execution_count": 2,
   "metadata": {},
   "outputs": [],
   "source": [
    "from PIL import Image\n",
    "import numpy as np\n",
    "from matplotlib import pyplot as plt\n",
    "from numpy import asarray\n",
    "import xml.etree.ElementTree as ET"
   ]
  },
  {
   "cell_type": "code",
   "execution_count": 3,
   "metadata": {},
   "outputs": [],
   "source": [
    "ann_path=\"VOCdevkit/VOC2012/Annotations/\"\n",
    "img_path=\"VOCdevkit/VOC2012/JPEGImages/\"\n",
    "mask_path=\"VOCdevkit/VOC2012/SegmentationObject/\"\n",
    "filename_path=\"VOCdevkit/VOC2012/ImageSets/Segmentation/trainval.txt\""
   ]
  },
  {
   "cell_type": "code",
   "execution_count": 4,
   "metadata": {},
   "outputs": [],
   "source": [
    "def read_content(xml_file):\n",
    "\n",
    "    tree = ET.parse(xml_file)\n",
    "    root = tree.getroot()\n",
    "    list_with_all_boxes = []\n",
    "    \n",
    "    width=int(root.find(\"size/width\").text)\n",
    "    height=int(root.find(\"size/height\").text)\n",
    "    depth=int(root.find(\"size/depth\").text)\n",
    "    for boxes in root.iter('object'):\n",
    "\n",
    "        filename = root.find('filename').text\n",
    "\n",
    "        ymin, xmin, ymax, xmax = None, None, None, None\n",
    "        \n",
    "        class_i=boxes.find(\"name\").text\n",
    "        ymin = int(boxes.find(\"bndbox/ymin\").text)\n",
    "        xmin = int(boxes.find(\"bndbox/xmin\").text)\n",
    "        ymax = int(boxes.find(\"bndbox/ymax\").text)\n",
    "        xmax = int(boxes.find(\"bndbox/xmax\").text)\n",
    "\n",
    "        list_single=[xmin,ymin,xmax,ymax,class_i]\n",
    "        list_with_all_boxes.append(list_single)\n",
    "        \n",
    "\n",
    "    return width,height,depth,list_with_all_boxes"
   ]
  },
  {
   "cell_type": "code",
   "execution_count": 6,
   "metadata": {},
   "outputs": [],
   "source": [
    "with open(filename_path, 'r') as f:\n",
    "    img_names = f.read().split()"
   ]
  },
  {
   "cell_type": "code",
   "execution_count": 7,
   "metadata": {},
   "outputs": [
    {
     "name": "stdout",
     "output_type": "stream",
     "text": [
      "0\n",
      "200\n",
      "400\n",
      "600\n",
      "800\n",
      "1000\n",
      "1200\n",
      "1400\n",
      "1600\n",
      "1800\n",
      "2000\n",
      "2200\n",
      "2400\n",
      "2600\n",
      "2800\n"
     ]
    }
   ],
   "source": [
    "j=0\n",
    "#masks=[]\n",
    "boxes=[]\n",
    "#imgs=[]\n",
    "for i in img_names:\n",
    "    w,h,d,box=read_content(ann_path+i+'.xml')\n",
    "    #img = Image.open(img_path+i+'.jpg')\n",
    "    #img= asarray(img)\n",
    "    #mask=calc_mask(i,len(box))\n",
    "    #masks.append(mask)\n",
    "    boxes.append(box)\n",
    "    #imgs.append(img)\n",
    "    if j%200==0:\n",
    "        print(j)\n",
    "    j+=1"
   ]
  },
  {
   "cell_type": "code",
   "execution_count": 8,
   "metadata": {},
   "outputs": [],
   "source": [
    "import pickle\n",
    "file_name = \"sample.pkl\"\n",
    "\n",
    "open_file = open(file_name, \"wb\")\n",
    "pickle.dump(boxes, open_file)\n",
    "open_file.close()"
   ]
  }
 ],
 "metadata": {
  "kernelspec": {
   "display_name": "Python 3",
   "language": "python",
   "name": "python3"
  },
  "language_info": {
   "codemirror_mode": {
    "name": "ipython",
    "version": 3
   },
   "file_extension": ".py",
   "mimetype": "text/x-python",
   "name": "python",
   "nbconvert_exporter": "python",
   "pygments_lexer": "ipython3",
   "version": "3.8.5"
  }
 },
 "nbformat": 4,
 "nbformat_minor": 4
}
